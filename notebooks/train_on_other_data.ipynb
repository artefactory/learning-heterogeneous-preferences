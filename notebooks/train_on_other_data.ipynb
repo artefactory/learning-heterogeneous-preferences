{
 "cells": [
  {
   "cell_type": "markdown",
   "metadata": {},
   "source": [
    "## Using the models on your data"
   ]
  },
  {
   "cell_type": "code",
   "execution_count": 1,
   "metadata": {},
   "outputs": [],
   "source": [
    "import os\n",
    "import sys\n",
    "\n",
    "sys.path.append(\"../\")"
   ]
  },
  {
   "cell_type": "markdown",
   "metadata": {},
   "source": [
    "### Data formating\n",
    "\n",
    "The data need to be given to the model as two np.ndarrays: X and Y. <br>\n",
    "The need to have the same shape, X represents the criteria of the preferred alternatives, Y of the non-preferred alternatives.\n",
    "\n",
    "Let's say that we observe:\n",
    "- A > B > C\n",
    "- B > D\n",
    "- D > C\n",
    "\n",
    "Then we will have:\n",
    "\n",
    "X = [A, B, B, D]\n",
    "Y = [B, C, D, C]\n",
    "\n",
    "Now, each alternative must be replaced by its criteria values. The criteria are considered increasing, meaning that the higher the better."
   ]
  },
  {
   "cell_type": "code",
   "execution_count": 2,
   "metadata": {},
   "outputs": [],
   "source": [
    "import numpy as np\n",
    "\n",
    "A = [0.5, 0.8]\n",
    "B = [0.2, 0.3]\n",
    "C = [0.1, 0.35]\n",
    "D = [0.5, 0.2]\n",
    "\n",
    "X = np.stack([A, B, B, D], axis=0)\n",
    "Y = np.stack([B, C, D, C], axis=0)"
   ]
  },
  {
   "cell_type": "code",
   "execution_count": 3,
   "metadata": {},
   "outputs": [],
   "source": [
    "from python.models import ClusterUTA, UTA\n",
    "from python.heuristics import PLSHeuristic"
   ]
  },
  {
   "cell_type": "markdown",
   "metadata": {},
   "source": [
    "Now, you can compute the model with .fit() and then access the coefficients with .coeffs:\n",
    "\n",
    "**For the simple UTA model:**"
   ]
  },
  {
   "cell_type": "code",
   "execution_count": null,
   "metadata": {},
   "outputs": [],
   "source": [
    "model = UTA(\n",
    "    n_pieces=5, # Number of linear pieces on each criteria\n",
    "    epsilon=0.01, # Minimum utility difference between preference pairs\n",
    ")\n",
    "residual_error, u_x, u_y = model.fit(X, Y)"
   ]
  },
  {
   "cell_type": "code",
   "execution_count": null,
   "metadata": {},
   "outputs": [],
   "source": [
    "print(model.coeffs)\n",
    "print(model.predict_utility(X))\n",
    "print(model.predict_utility(Y))"
   ]
  },
  {
   "cell_type": "markdown",
   "metadata": {},
   "source": [
    "**For the MILO ClusterUTA:**"
   ]
  },
  {
   "cell_type": "code",
   "execution_count": null,
   "metadata": {},
   "outputs": [],
   "source": [
    "model = ClusterUTA(\n",
    "    n_clusters=3, # Number of clusters\n",
    "    n_pieces=5, # Number of linear pieces on each criteria\n",
    "    epsilon=0.01, # Minimum utility difference between preference pairs\n",
    ")\n",
    "residual_error, cluster_attributions, u_x, u_y = model.fit(\n",
    "    X,\n",
    "    Y,\n",
    "    cluster_grouping=[0, 0, 1, 2], # Use same label for pairs that must be clustered together\n",
    "    time_limit=None, # Maximum time allowed for optimization in seconds\n",
    "    )"
   ]
  },
  {
   "cell_type": "code",
   "execution_count": null,
   "metadata": {},
   "outputs": [],
   "source": [
    "print(model.coeffs)\n",
    "print(model.predict_utility(X))\n",
    "print(model.predict_utility(Y))"
   ]
  },
  {
   "cell_type": "markdown",
   "metadata": {},
   "source": [
    "**Finally for the Heuristic:**"
   ]
  },
  {
   "cell_type": "code",
   "execution_count": 8,
   "metadata": {},
   "outputs": [],
   "source": [
    "model = PLSHeuristic(\n",
    "    n_clusters=2, # Number of clusters\n",
    "    models_class=UTA, # base model class\n",
    "    models_params={\"n_pieces\": 1, # Number of linear pieces on each criteria\n",
    "                   \"epsilon\": 0.01},\n",
    "    n_init=10, # Number of initializations and optimizations\n",
    "    max_iter_by_init=100, # Maximum number of iterations for each optimization\n",
    ")\n",
    "losses_by_init, best_losses = model.fit(\n",
    "    X,\n",
    "    Y,\n",
    "    group_ids=[0, 0, 1, 2], # Use same label for pairs that must be clustered together\n",
    "    )"
   ]
  },
  {
   "cell_type": "code",
   "execution_count": null,
   "metadata": {},
   "outputs": [],
   "source": [
    "print(model.coeffs)\n",
    "print(model.predict_utility(X))\n",
    "print(model.predict_utility(Y))"
   ]
  },
  {
   "cell_type": "code",
   "execution_count": null,
   "metadata": {},
   "outputs": [],
   "source": []
  }
 ],
 "metadata": {
  "kernelspec": {
   "display_name": "lin_prog",
   "language": "python",
   "name": "python3"
  },
  "language_info": {
   "codemirror_mode": {
    "name": "ipython",
    "version": 3
   },
   "file_extension": ".py",
   "mimetype": "text/x-python",
   "name": "python",
   "nbconvert_exporter": "python",
   "pygments_lexer": "ipython3",
   "version": "3.10.10"
  }
 },
 "nbformat": 4,
 "nbformat_minor": 2
}
