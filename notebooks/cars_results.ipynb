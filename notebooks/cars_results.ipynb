{
 "cells": [
  {
   "cell_type": "code",
   "execution_count": 4,
   "metadata": {},
   "outputs": [],
   "source": [
    "import os\n",
    "import sys\n",
    "\n",
    "sys.path.append(\"../\")\n",
    "\n",
    "import matplotlib.pyplot as plt\n",
    "import numpy as np\n",
    "import pandas as pd"
   ]
  },
  {
   "cell_type": "code",
   "execution_count": 23,
   "metadata": {},
   "outputs": [],
   "source": [
    "base_dir = \"./../save_cars_xps/results/\"\n",
    "n_clusters = [2, 3]\n",
    "\n",
    "results = {\n",
    "    \"n_clusters\": [],\n",
    "    \"learning_size\": [],\n",
    "    \"fit_time\": [],\n",
    "}\n",
    "for res_dir in os.listdir(base_dir):\n",
    "    learning_size = int(res_dir.split(\"_\")[0])\n",
    "    for n_c in n_clusters:\n",
    "        fit_time = np.load(os.path.join(base_dir, res_dir, f\"{n_c}_clusters_{learning_size}_milo_fit_time.npy\")).astype(\"float32\")\n",
    "        results[\"n_clusters\"].append(n_c)\n",
    "        results[\"learning_size\"].append(learning_size)\n",
    "        results[\"fit_time\"].append(float(fit_time))\n",
    "\n",
    "milo_results = pd.DataFrame(results)\n",
    "\n",
    "results = {\n",
    "    \"n_clusters\": [],\n",
    "    \"learning_size\": [],\n",
    "    \"fit_time\": [],\n",
    "}\n",
    "for res_dir in os.listdir(base_dir):\n",
    "    learning_size = int(res_dir.split(\"_\")[0])\n",
    "    for n_c in n_clusters:\n",
    "        fit_time = np.load(os.path.join(base_dir, res_dir, f\"{n_c}_clusters_{learning_size}_heuristic_fit_time.npy\")).astype(\"float32\")\n",
    "        results[\"n_clusters\"].append(n_c)\n",
    "        results[\"learning_size\"].append(learning_size)\n",
    "        results[\"fit_time\"].append(float(fit_time))\n",
    "\n",
    "heuristic_results = pd.DataFrame(results)"
   ]
  },
  {
   "cell_type": "code",
   "execution_count": null,
   "metadata": {},
   "outputs": [],
   "source": [
    "plt.figure(figsize=(16, 6))\n",
    "plt.subplot(1, 2, 1)\n",
    "for n_c in n_clusters:\n",
    "    sub_df = milo_results.loc[milo_results[\"n_clusters\"] == n_c]\n",
    "    sub_df = sub_df.groupby(\"learning_size\").mean()\n",
    "    plt.plot(sub_df.index, sub_df[\"fit_time\"], label=f\"{n_c} clusters\")\n",
    "plt.legend()\n",
    "plt.xlabel(\"Learning size\")\n",
    "plt.ylabel(\"Fit time (s)\")\n",
    "plt.subplot(1, 2, 2)\n",
    "for n_c in n_clusters:\n",
    "    sub_df = heuristic_results.loc[heuristic_results[\"n_clusters\"] == n_c]\n",
    "    sub_df = sub_df.groupby(\"learning_size\").mean()\n",
    "    plt.plot(sub_df.index, sub_df[\"fit_time\"], label=f\"{n_c} clusters\")\n",
    "plt.legend()\n",
    "plt.xlabel(\"Learning size\")\n",
    "plt.ylabel(\"Fit time (s)\")\n",
    "plt.plot()"
   ]
  },
  {
   "cell_type": "code",
   "execution_count": null,
   "metadata": {},
   "outputs": [],
   "source": []
  }
 ],
 "metadata": {
  "kernelspec": {
   "display_name": "lin_prog",
   "language": "python",
   "name": "python3"
  },
  "language_info": {
   "codemirror_mode": {
    "name": "ipython",
    "version": 3
   },
   "file_extension": ".py",
   "mimetype": "text/x-python",
   "name": "python",
   "nbconvert_exporter": "python",
   "pygments_lexer": "ipython3",
   "version": "3.10.10"
  }
 },
 "nbformat": 4,
 "nbformat_minor": 2
}
